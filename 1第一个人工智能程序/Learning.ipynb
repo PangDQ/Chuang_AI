{
 "cells": [
  {
   "cell_type": "code",
   "execution_count": 2,
   "metadata": {
    "scrolled": true
   },
   "outputs": [],
   "source": [
    "import numpy as np\n",
    "import matplotlib.pyplot as plt\n",
    "import h5py\n",
    "import skimage.transform as tf\n",
    "\n",
    "%matplotlib inline"
   ]
  },
  {
   "cell_type": "code",
   "execution_count": 3,
   "metadata": {},
   "outputs": [
    {
     "name": "stdout",
     "output_type": "stream",
     "text": [
      "<HDF5 file \"train_catvnoncat.h5\" (mode r)>\n"
     ]
    }
   ],
   "source": [
    "###########测试\n",
    "f = h5py.File('datasets/train_catvnoncat.h5' , 'r')\n",
    "print(f)    #!!直接对文件进行打印会输出文件类型，文件名和打开类型"
   ]
  },
  {
   "cell_type": "code",
   "execution_count": 4,
   "metadata": {},
   "outputs": [],
   "source": [
    "def load_dataset():        \n",
    "    train_dataset = h5py.File(\"datasets/train_catvnoncat.h5\", \"r\") \n",
    "    train_value_orig = np.array(train_dataset[\"train_set_x\"][:]) \n",
    "    train_label_orig = np.array(train_dataset[\"train_set_y\"][:]) \n",
    "\n",
    "    \n",
    "    test_dataset = h5py.File(\"datasets/test_catvnoncat.h5\", \"r\") \n",
    "    test_value_orig = np.array(test_dataset[\"test_set_x\"][:]) \n",
    "    test_label_orig = np.array(test_dataset[\"test_set_y\"][:]) \n",
    "\n",
    "    classes = np.array(test_dataset[\"list_classes\"][:]) \n",
    "    \n",
    "    train_label_orig = train_label_orig.reshape((1, train_label_orig.shape[0]))\n",
    "    test_label_orig = test_label_orig.reshape((1, test_label_orig.shape[0]))\n",
    "    \n",
    "   \n",
    "    return train_value_orig, train_label_orig, test_value_orig, test_label_orig, classes"
   ]
  },
  {
   "cell_type": "code",
   "execution_count": 5,
   "metadata": {},
   "outputs": [],
   "source": [
    "train_set_value, train_set_label, test_set_value, test_set_label, classes = load_dataset()"
   ]
  },
  {
   "cell_type": "code",
   "execution_count": 6,
   "metadata": {},
   "outputs": [
    {
     "name": "stdout",
     "output_type": "stream",
     "text": [
      "(1, 50)\n",
      "1\n"
     ]
    }
   ],
   "source": [
    "##########测试\n",
    "a = test_set_label.shape      #直接调用shape显示整体的维度\n",
    "b = test_set_label.shape[0]   #加[]显示指定维的维度，针对多维数组\n",
    "print(a)\n",
    "print(b)\n",
    "\n",
    "\n",
    "#直接调用shape显示整体的维度"
   ]
  },
  {
   "cell_type": "code",
   "execution_count": 7,
   "metadata": {},
   "outputs": [
    {
     "name": "stdout",
     "output_type": "stream",
     "text": [
      "[[0 0 1 0 0 0 0 1 0 0 0 1 0 1 1 0 0 0 0 1 0 0 0 0 1 1 0 1 0 1 0 0 0 0 0 0\n",
      "  0 0 1 0 0 1 1 0 0 0 0 1 0 0 1 0 0 0 1 0 1 1 0 1 1 1 0 0 0 0 0 0 1 0 0 1\n",
      "  0 0 0 0 0 0 0 0 0 0 0 1 1 0 0 0 1 0 0 0 1 1 1 0 0 1 0 0 0 0 1 0 1 0 1 1\n",
      "  1 1 1 1 0 0 0 0 0 1 0 0 0 1 0 0 1 0 1 0 1 1 0 0 0 1 1 1 1 1 0 0 0 0 1 0\n",
      "  1 1 1 0 1 1 0 0 0 1 0 0 1 0 0 0 0 0 1 0 1 0 1 0 0 1 1 1 0 0 1 1 0 1 0 1\n",
      "  0 0 0 0 0 1 0 0 1 0 0 0 1 0 0 0 0 1 0 0 1 0 0 0 0 0 0 0 0]] \n",
      " [0 0 1 0 0 0 0 1 0 0 0 1 0 1 1 0 0 0 0 1 0 0 0 0 1 1 0 1 0 1 0 0 0 0 0 0 0\n",
      " 0 1 0 0 1 1 0 0 0 0 1 0 0 1 0 0 0 1 0 1 1 0 1 1 1 0 0 0 0 0 0 1 0 0 1 0 0\n",
      " 0 0 0 0 0 0 0 0 0 1 1 0 0 0 1 0 0 0 1 1 1 0 0 1 0 0 0 0 1 0 1 0 1 1 1 1 1\n",
      " 1 0 0 0 0 0 1 0 0 0 1 0 0 1 0 1 0 1 1 0 0 0 1 1 1 1 1 0 0 0 0 1 0 1 1 1 0\n",
      " 1 1 0 0 0 1 0 0 1 0 0 0 0 0 1 0 1 0 1 0 0 1 1 1 0 0 1 1 0 1 0 1 0 0 0 0 0\n",
      " 1 0 0 1 0 0 0 1 0 0 0 0 1 0 0 1 0 0 0 0 0 0 0 0] \n",
      " [[0 0 1 0 0 0 0 1 0 0 0 1 0 1 1 0 0 0 0 1 0 0 0 0 1 1 0 1 0 1 0 0 0 0 0 0\n",
      "  0 0 1 0 0 1 1 0 0 0 0 1 0 0 1 0 0 0 1 0 1 1 0 1 1 1 0 0 0 0 0 0 1 0 0 1\n",
      "  0 0 0 0 0 0 0 0 0 0 0 1 1 0 0 0 1 0 0 0 1 1 1 0 0 1 0 0 0 0 1 0 1 0 1 1\n",
      "  1 1 1 1 0 0 0 0 0 1 0 0 0 1 0 0 1 0 1 0 1 1 0 0 0 1 1 1 1 1 0 0 0 0 1 0\n",
      "  1 1 1 0 1 1 0 0 0 1 0 0 1 0 0 0 0 0 1 0 1 0 1 0 0 1 1 1 0 0 1 1 0 1 0 1\n",
      "  0 0 0 0 0 1 0 0 1 0 0 0 1 0 0 0 0 1 0 0 1 0 0 0 0 0 0 0 0]] \n",
      " [0]\n"
     ]
    }
   ],
   "source": [
    "##########测试\n",
    "a = train_set_label\n",
    "b = train_set_label[0]\n",
    "#c = train_set_label[30]    会出错train_set_label没有30个维度\n",
    "d = train_set_label[:10]\n",
    "e = train_set_label[:,30]\n",
    "print(a ,'\\n' , b , '\\n',d,'\\n',e)"
   ]
  },
  {
   "cell_type": "code",
   "execution_count": 8,
   "metadata": {},
   "outputs": [
    {
     "name": "stdout",
     "output_type": "stream",
     "text": [
      "[0]\n",
      "0\n",
      "b'non-cat'\n",
      "non-cat\n"
     ]
    }
   ],
   "source": [
    "########测试\n",
    "print(train_set_label[:,30])\n",
    "print(np.squeeze(train_set_label[:,30]))\n",
    "print(classes[np.squeeze(train_set_label[:,30])])\n",
    "print(classes[np.squeeze(train_set_label[:,30])].decode(\"utf-8\"))"
   ]
  },
  {
   "cell_type": "code",
   "execution_count": 9,
   "metadata": {},
   "outputs": [
    {
     "data": {
      "text/plain": [
       "array([0], dtype=int64)"
      ]
     },
     "execution_count": 9,
     "metadata": {},
     "output_type": "execute_result"
    }
   ],
   "source": [
    "train_set_label[:, 30]\n"
   ]
  },
  {
   "cell_type": "code",
   "execution_count": 10,
   "metadata": {},
   "outputs": [
    {
     "data": {
      "text/plain": [
       "'[0]'"
      ]
     },
     "execution_count": 10,
     "metadata": {},
     "output_type": "execute_result"
    }
   ],
   "source": [
    "str(train_set_label[:, 30])"
   ]
  },
  {
   "cell_type": "code",
   "execution_count": 11,
   "metadata": {},
   "outputs": [
    {
     "name": "stdout",
     "output_type": "stream",
     "text": [
      "标签为[0]\n",
      "标签为 [0]\n"
     ]
    }
   ],
   "source": [
    "print (\"标签为\" + str(train_set_label[:,30]))\n",
    "print (\"标签为\" ,(train_set_label[:, 30]))"
   ]
  },
  {
   "cell_type": "code",
   "execution_count": 12,
   "metadata": {},
   "outputs": [
    {
     "name": "stdout",
     "output_type": "stream",
     "text": [
      "标签为[0]，这是一个non-cat图片\n"
     ]
    },
    {
     "data": {
      "image/png": "[encoded data removed]",
      "text/plain": [
       "<matplotlib.figure.Figure at 0x268f07a70f0>"
      ]
     },
     "metadata": {},
     "output_type": "display_data"
    }
   ],
   "source": [
    "index = 30\n",
    "plt.imshow(train_set_value[index])\n",
    "print(\"标签为\" + str(train_set_label[:,30]) + \"，这是一个\" + classes[np.squeeze(train_set_label[:, 30])].decode(\"utf-8\") + \"图片\")"
   ]
  },
  {
   "cell_type": "code",
   "execution_count": 13,
   "metadata": {},
   "outputs": [
    {
     "name": "stdout",
     "output_type": "stream",
     "text": [
      "train_set_value(209, 64, 64, 3)\n",
      "train_set_label(1, 209)\n",
      "test_set_value(50, 64, 64, 3)\n",
      "test_set_label(1, 50)\n"
     ]
    }
   ],
   "source": [
    "print(\"train_set_value\" + str(train_set_value.shape))\n",
    "print(\"train_set_label\" + str(train_set_label.shape))\n",
    "print(\"test_set_value\" + str(test_set_value.shape))\n",
    "print(\"test_set_label\" + str(test_set_label.shape))"
   ]
  },
  {
   "cell_type": "code",
   "execution_count": 14,
   "metadata": {},
   "outputs": [
    {
     "name": "stdout",
     "output_type": "stream",
     "text": [
      "train_set_value_flatten sahpe:(12288, 209)\n",
      "test_set_value_flatten sahpe:(12288, 50)\n"
     ]
    }
   ],
   "source": [
    "train_set_value_flatten = train_set_value.reshape(train_set_value.shape[0],-1).T\n",
    "test_set_value_flatten = test_set_value.reshape(test_set_value.shape[0],-1).T\n",
    "print(\"train_set_value_flatten sahpe:\" + str(train_set_value_flatten.shape))\n",
    "print(\"test_set_value_flatten sahpe:\" + str(test_set_value_flatten.shape))"
   ]
  },
  {
   "cell_type": "code",
   "execution_count": 15,
   "metadata": {},
   "outputs": [
    {
     "name": "stdout",
     "output_type": "stream",
     "text": [
      "[[0.06666667 0.76862745 0.32156863 ... 0.56078431 0.08627451 0.03137255]\n",
      " [0.12156863 0.75294118 0.27843137 ... 0.60784314 0.09411765 0.10980392]\n",
      " [0.21960784 0.74509804 0.26666667 ... 0.64705882 0.09019608 0.20784314]\n",
      " ...\n",
      " [0.         0.32156863 0.54117647 ... 0.33333333 0.01568627 0.        ]\n",
      " [0.         0.31372549 0.55294118 ... 0.41960784 0.01960784 0.        ]\n",
      " [0.         0.31764706 0.55686275 ... 0.58431373 0.         0.        ]]\n"
     ]
    }
   ],
   "source": [
    "train_set_value = train_set_value_flatten/255.\n",
    "test_set_value = test_set_value_flatten/255.\n",
    "print(train_set_value)"
   ]
  },
  {
   "cell_type": "code",
   "execution_count": 16,
   "metadata": {},
   "outputs": [],
   "source": [
    "def sigmid(z):\n",
    "    s = 1/(1+np.exp(-z))\n",
    "    \n",
    "    return s"
   ]
  },
  {
   "cell_type": "code",
   "execution_count": 17,
   "metadata": {},
   "outputs": [],
   "source": [
    "def initialize_with_zeros(dim):\n",
    "    w = np.zeros((dim,1))\n",
    "    b = 0\n",
    "    \n",
    "    return w,b"
   ]
  },
  {
   "cell_type": "code",
   "execution_count": 18,
   "metadata": {},
   "outputs": [
    {
     "name": "stdout",
     "output_type": "stream",
     "text": [
      "[[0.]\n",
      " [0.]\n",
      " [0.]\n",
      " ...\n",
      " [0.]\n",
      " [0.]\n",
      " [0.]] \n",
      " 0\n"
     ]
    }
   ],
   "source": [
    "w,b = initialize_with_zeros(12288)\n",
    "print(w,'\\n',b)"
   ]
  },
  {
   "cell_type": "code",
   "execution_count": 20,
   "metadata": {},
   "outputs": [
    {
     "name": "stdout",
     "output_type": "stream",
     "text": [
      "209\n"
     ]
    }
   ],
   "source": [
    "X = train_set_value\n",
    "print(X.shape[1])"
   ]
  },
  {
   "cell_type": "code",
   "execution_count": null,
   "metadata": {},
   "outputs": [],
   "source": []
  }
 ],
 "metadata": {
  "kernelspec": {
   "display_name": "Python 3",
   "language": "python",
   "name": "python3"
  },
  "language_info": {
   "codemirror_mode": {
    "name": "ipython",
    "version": 3
   },
   "file_extension": ".py",
   "mimetype": "text/x-python",
   "name": "python",
   "nbconvert_exporter": "python",
   "pygments_lexer": "ipython3",
   "version": "3.6.4"
  }
 },
 "nbformat": 4,
 "nbformat_minor": 2
}
