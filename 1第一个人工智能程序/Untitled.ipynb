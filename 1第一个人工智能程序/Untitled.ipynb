{
 "cells": [
  {
   "cell_type": "code",
   "execution_count": 1,
   "metadata": {},
   "outputs": [],
   "source": [
    "import numpy as np # 加载numpy工具库并给它取个别名为np，后面就可以通过np来调用numpy工具库里面的函数了。numpy是python的一个科学计算工具库，\n",
    "                    # 除了前面文章中提到的它可以用来进行向量化之外，它还有很多常用的功能。非常非常常用的一个工具库！\n",
    "import matplotlib.pyplot as plt # 这个库是用来画图的\n",
    "\n",
    "import h5py # 这个库是用来加载训练数据集的。我们数据集的保存格式是HDF。Hierarchical Data Format(HDF)是一种针对大量数据进行组织和存储的\n",
    "            #  文件格式,大数据行业和人工智能行业都用它来保存数据。\n",
    "import skimage.transform as tf # 这里我们用它来缩放图片\n",
    "\n",
    "#这是jupyter notebook里的命令, 意思是将那些用matplotlib绘制的图显示在页面里而不是弹出一个窗口\n",
    "%matplotlib inline "
   ]
  },
  {
   "cell_type": "code",
   "execution_count": 2,
   "metadata": {},
   "outputs": [],
   "source": [
    "def load_dataset():        #!!定义一个函数\n",
    "    train_dataset = h5py.File(\"datasets/train_catvnoncat.h5\", \"r\") # 加载训练数据      #!!创建一个h5文件，类似python的文件操作，只读打开此h5文件\n",
    "    train_set_x_orig = np.array(train_dataset[\"train_set_x\"][:]) # 从训练数据中提取出图片的特征数据   #!!取出主键为train_set_x的所有键值\n",
    "    train_set_y_orig = np.array(train_dataset[\"train_set_y\"][:]) # 从训练数据中提取出图片的标签数据\n",
    "    #!!np.array()用于创建一个数组，一维是行向量\n",
    "    \n",
    "    test_dataset = h5py.File(\"datasets/test_catvnoncat.h5\", \"r\") # 加载测试数据\n",
    "    test_set_x_orig = np.array(test_dataset[\"test_set_x\"][:]) \n",
    "    test_set_y_orig = np.array(test_dataset[\"test_set_y\"][:]) \n",
    "\n",
    "    classes = np.array(test_dataset[\"list_classes\"][:]) # 加载标签类别数据，这里的类别只有两种，1代表有猫，0代表无猫\n",
    "        \n",
    "    train_set_y_orig = train_set_y_orig.reshape((1, train_set_y_orig.shape[0])) # 把数组的维度从(209,)变成(1, 209)，这样好方便后面进行计算\n",
    "    test_set_y_orig = test_set_y_orig.reshape((1, test_set_y_orig.shape[0])) # 从(50,)变成(1, 50)\n",
    "    \n",
    "    return train_set_x_orig, train_set_y_orig, test_set_x_orig, test_set_y_orig, classes"
   ]
  },
  {
   "cell_type": "code",
   "execution_count": 3,
   "metadata": {},
   "outputs": [],
   "source": [
    "# 调用上面定义的函数将数据加载到各个变量中\n",
    "train_set_x_orig, train_set_y, test_set_x_orig, test_set_y, classes = load_dataset()      #!!返回值按照return顺序返回，并依次赋值"
   ]
  },
  {
   "cell_type": "code",
   "execution_count": null,
   "metadata": {},
   "outputs": [],
   "source": []
  }
 ],
 "metadata": {
  "kernelspec": {
   "display_name": "Python 3",
   "language": "python",
   "name": "python3"
  },
  "language_info": {
   "codemirror_mode": {
    "name": "ipython",
    "version": 3
   },
   "file_extension": ".py",
   "mimetype": "text/x-python",
   "name": "python",
   "nbconvert_exporter": "python",
   "pygments_lexer": "ipython3",
   "version": "3.6.4"
  }
 },
 "nbformat": 4,
 "nbformat_minor": 2
}
